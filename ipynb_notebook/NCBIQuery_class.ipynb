{
 "cells": [
  {
   "cell_type": "markdown",
   "metadata": {
    "Collapsed": "false"
   },
   "source": [
    "# NCBIQuery class"
   ]
  },
  {
   "cell_type": "markdown",
   "metadata": {
    "Collapsed": "false"
   },
   "source": [
    "## Description\n",
    "To download from NCBI I've been using `BioEntrez`. I made a simple class to download `fasta` and `gb` records.\n",
    "\n",
    "### Useful links:\n",
    "- [A General Introduction to the E-utilities](https://www.ncbi.nlm.nih.gov/books/NBK25497/)\n",
    "- [Table for `EFetch` `retmode` and `rettype`](https://www.ncbi.nlm.nih.gov/books/NBK25499/table/chapter4.T._valid_values_of__retmode_and/?report=objectonly)"
   ]
  },
  {
   "cell_type": "markdown",
   "metadata": {
    "Collapsed": "false"
   },
   "source": [
    "`import geneviking as gv`\n",
    "\n",
    "`gv.NCBIQuery(acc, start, end, thresh)`\n"
   ]
  },
  {
   "cell_type": "code",
   "execution_count": 155,
   "metadata": {
    "Collapsed": "false"
   },
   "outputs": [],
   "source": [
    "import urllib\n",
    "from Bio import Entrez\n",
    "import time\n",
    "import io\n",
    "from Bio import SeqIO"
   ]
  },
  {
   "cell_type": "code",
   "execution_count": 156,
   "metadata": {
    "Collapsed": "false"
   },
   "outputs": [],
   "source": [
    "__email__ = \"nquinones@g.harvard.edu\"\n",
    "Entrez.email = __email__\n",
    "Entrez.api_key = '693377c63a7574b9384fca67ee08a50d1308'"
   ]
  },
  {
   "cell_type": "code",
   "execution_count": 332,
   "metadata": {
    "Collapsed": "false"
   },
   "outputs": [],
   "source": [
    "class NCBIQuery:\n",
    "    \n",
    "    def __init__(self, acc, start, end, thresh):\n",
    "        \n",
    "        # ncbi accession\n",
    "        self.acc = acc\n",
    "        \n",
    "        # range\n",
    "        self.start = start\n",
    "        self.end = end\n",
    "        \n",
    "        # if start or end are None, treat ranges as none\n",
    "        # this will download full record\n",
    "        if (start is not None) and (end is not None):\n",
    "            self.query_range = set(range(start, end))\n",
    "\n",
    "            # neighborhood\n",
    "            self.rangeend = end + thresh\n",
    "            self.rangestart = start - thresh\n",
    "            \n",
    "            # Deal with range start of 0 as if it was 1.\n",
    "            # NCBI records are 1 indexed\n",
    "            if self.rangestart <= 0:\n",
    "                self.rangestart = 1\n",
    "        \n",
    "        else:\n",
    "            self.query_range = None\n",
    "            self.rangeend = None\n",
    "            self.rangestart = None\n",
    "    \n",
    "    \n",
    "    def download(self, outdir='.', fmt='gb', full_download=False, DEBUG=True):\n",
    "        '''\n",
    "        outdir: directory were sequence will be downloaded\n",
    "        fmt: record download format. allowed: 'gb' is GenBank(full) and 'fasta'\n",
    "        '''\n",
    "        \n",
    "        # deal with format option\n",
    "        if fmt == 'gb':\n",
    "            rettype_fmt = 'gb'\n",
    "            output_fmt = 'genbank'\n",
    "        \n",
    "        elif fmt == 'fasta':\n",
    "            rettype_fmt = 'fasta'\n",
    "            output_fmt = 'fasta'\n",
    "        else:\n",
    "            raise ValueError('Supported fmt are \"gb\" or \"fasta\".')\n",
    "        \n",
    "        # assign download start and end from object attributes\n",
    "        download_start = self.rangestart\n",
    "        download_end = self.rangeend\n",
    "        \n",
    "        # modify download start and end if full record option\n",
    "        if full_download:\n",
    "            print('Downloading full record.', end =\" \")\n",
    "            download_start = None\n",
    "            download_end = None\n",
    "\n",
    "        # if they were specified as None, download full record\n",
    "        if (download_start is None) or (download_end is None):\n",
    "            print('Downloading full record.', end =\" \")\n",
    "            \n",
    "        \n",
    "        # download with Bio.Entrez\n",
    "        while True:\n",
    "            try:\n",
    "                # debug print statement\n",
    "                if DEBUG:\n",
    "                    print('Downloading {}...'.format(self.acc), end =\" \")\n",
    "                \n",
    "                # request to NCBI with efetch\n",
    "                response = Entrez.efetch(db='nuccore',\n",
    "                                         id=self.acc,\n",
    "                                         rettype=rettype_fmt,\n",
    "                                         retmode=\"text\",\n",
    "                                         seq_start=download_start,\n",
    "                                         seq_stop=download_end)\n",
    "                if DEBUG:\n",
    "                    print('Downloaded.')\n",
    "                \n",
    "                break\n",
    "                \n",
    "            except urllib.error.HTTPError as e:\n",
    "                \n",
    "                # Handle non existant accession\n",
    "                if e.code == 400:\n",
    "                    print(f'Unable to download: {self.acc}. Check accession.')\n",
    "                    raise\n",
    "                \n",
    "                # Handle too many requests error\n",
    "                elif e.code == 429:\n",
    "                    \n",
    "                    if DEBUG:\n",
    "                        print('Too many requests. retrying {}'.format(self.acc))\n",
    "                    \n",
    "                    # wait 1 second and try again\n",
    "                    time.sleep(1)\n",
    "                    continue\n",
    "                \n",
    "                # raise if HTTPError is different\n",
    "                else:\n",
    "                    raise\n",
    "            else:\n",
    "                raise\n",
    "        \n",
    "        # read response into stringio\n",
    "        response_io = io.StringIO(response.read())\n",
    "        \n",
    "        # save into specified directory\n",
    "        if outdir:\n",
    "            for record in SeqIO.parse(response_io, output_fmt):\n",
    "                fasta_records = record\n",
    "            \n",
    "            # reformat id for save name\n",
    "            seq_id = fasta_records.id.replace(':', '_')\n",
    "            SeqIO.write(fasta_records, f'{outdir}/{seq_id}.{rettype_fmt}', output_fmt)\n",
    "        \n",
    "        self.downloaded_record = response_io\n",
    "    \n",
    "    def add_something(self, string):\n",
    "        self.something = string"
   ]
  },
  {
   "cell_type": "code",
   "execution_count": 337,
   "metadata": {
    "Collapsed": "false"
   },
   "outputs": [],
   "source": [
    "a = NCBIQuery('CP028994.1', 4443838, 4444755, 0)"
   ]
  },
  {
   "cell_type": "code",
   "execution_count": 338,
   "metadata": {
    "Collapsed": "false"
   },
   "outputs": [
    {
     "name": "stdout",
     "output_type": "stream",
     "text": [
      "Downloading CP028994.1... Downloaded.\n"
     ]
    }
   ],
   "source": [
    "a.download()"
   ]
  },
  {
   "cell_type": "code",
   "execution_count": 341,
   "metadata": {
    "Collapsed": "false"
   },
   "outputs": [
    {
     "data": {
      "text/plain": [
       "'LOCUS       CP028994                 918 bp    DNA     linear   BCT 28-APR-2018\\nDEFINITION  Klebsiella pneumoniae strain AR_0079 chromosome, complete genome.\\nACCESSION   CP028994 REGION: 4443838..4444755\\nVERSION     CP028994.1\\nDBLINK      BioProject: PRJNA292904\\n            BioSample: SAMN04014920\\nKEYWORDS    .\\nSOURCE      Klebsiella pneumoniae\\n  ORGANISM  Klebsiella pneumoniae\\n            Bacteria; Proteobacteria; Gammaproteobacteria; Enterobacterales;\\n            Enterobacteriaceae; Klebsiella.\\nREFERENCE   1  (bases 1 to 918)\\n  AUTHORS   Conlan,S., Thomas,P.J., Mullikin,J., Frank,K.M. and Segre,J.A.\\n  TITLE     Whole genome sequencing of Klebsiella pneumoniae AR_0079\\n  JOURNAL   Unpublished\\nREFERENCE   2  (bases 1 to 918)\\n  AUTHORS   Segre,J.A. and Mullikin,J.\\n  TITLE     Direct Submission\\n  JOURNAL   Submitted (19-APR-2018) NIH Intramural Sequencing Center, 5625\\n            Fishers Lane, Rockville, MD 20852, USA\\nCOMMENT     Annotation was added by the NCBI Prokaryotic Genome Annotation\\n            Pipeline (released 2013). Information about the Pipeline can be\\n            found here: https://www.ncbi.nlm.nih.gov/genome/annotation_prok/\\n            \\n            ##Genome-Assembly-Data-START##\\n            Assembly Method       :: canu v. 1.6\\n            Genome Coverage       :: 98x\\n            Sequencing Technology :: PacBio RSII\\n            ##Genome-Assembly-Data-END##\\n            \\n            ##Genome-Annotation-Data-START##\\n            Annotation Provider               :: NCBI\\n            Annotation Date                   :: 03/16/2018 19:13:38\\n            Annotation Pipeline               :: NCBI Prokaryotic Genome\\n                                                 Annotation Pipeline\\n            Annotation Method                 :: Best-placed reference protein\\n                                                 set; GeneMarkS+\\n            Annotation Software revision      :: 4.4\\n            Features Annotated                :: Gene; CDS; rRNA; tRNA; ncRNA;\\n                                                 repeat_region\\n            Genes (total)                     :: 6,428\\n            CDS (total)                       :: 6,299\\n            Genes (coding)                    :: 6,097\\n            CDS (coding)                      :: 6,097\\n            Genes (RNA)                       :: 129\\n            rRNAs                             :: 9, 8, 8 (5S, 16S, 23S)\\n            complete rRNAs                    :: 9, 8, 8 (5S, 16S, 23S)\\n            tRNAs                             :: 92\\n            ncRNAs                            :: 12\\n            Pseudo Genes (total)              :: 202\\n            Pseudo Genes (ambiguous residues) :: 0 of 202\\n            Pseudo Genes (frameshifted)       :: 101 of 202\\n            Pseudo Genes (incomplete)         :: 102 of 202\\n            Pseudo Genes (internal stop)      :: 39 of 202\\n            Pseudo Genes (multiple problems)  :: 37 of 202\\n            ##Genome-Annotation-Data-END##\\nFEATURES             Location/Qualifiers\\n     source          1..918\\n                     /organism=\"Klebsiella pneumoniae\"\\n                     /mol_type=\"genomic DNA\"\\n                     /strain=\"AR_0079\"\\n                     /db_xref=\"taxon:573\"\\n     misc_feature    <1..>918\\n                     /locus_tag=\"AM458_22665\"\\n                     /note=\"manually reconstructed duplication\"\\n     gene            1..>918\\n                     /locus_tag=\"AM458_22665\"\\n     CDS             1..>918\\n                     /locus_tag=\"AM458_22665\"\\n                     /inference=\"COORDINATES: similar to AA\\n                     sequence:RefSeq:WP_000248006.1\"\\n                     /note=\"Derived by automated computational analysis using\\n                     gene prediction method: Protein Homology.\"\\n                     /codon_start=1\\n                     /transl_table=11\\n                     /product=\"hypothetical protein\"\\n                     /protein_id=\"AWE03162.1\"\\n                     /translation=\"MVNEIKPISPRQGNLQLFPVKEVEVEGVAMGVLNDGTPYLTGRG\\n                     LAEMCGVHHSVIQDISSDWAGERLKPRGRKIDTILLDQGIDVESLYIPSSETKRDHYP\\n                     YPDYVCMAILEYYAFDASQANNATALRNYRLLARQTLREFIFRSVGIDPRNPVSGAWK\\n                     CFQERILLNDKIPAGFFSVFREMVDITVPLINAGFELGPKTVPDISVGTRWANHWKRN\\n                     NLSEKYGDIQKHPHVYPDWFPQSKAGNLPANIYPEEALGEFRRWLREEYVPKGFKEYL\\n                     ADKVQQKVIENTKAIEVLENLQRPELPNKKQ\"\\nORIGIN      \\n        1 atggttaatg agataaagcc aatatcgccc cgccaaggaa atcttcaatt atttccggtg\\n       61 aaagaggttg aagttgaagg tgtggcaatg ggtgttctta atgatggtac accatatctc\\n      121 actggccggg gactggctga aatgtgtggc gttcatcata gtgtaattca ggatatatct\\n      181 tctgattggg ctggagagcg ccttaagcct cgtggtagaa aaattgacac tattctcctt\\n      241 gatcagggta tagatgttga atcactttac ataccatcat cagaaactaa acgggaccat\\n      301 tatccgtacc ctgattatgt ctgcatggca attcttgagt attatgcatt tgatgcaagc\\n      361 caagcaaaca acgccacagc cctaagaaat tatcgccttt tagcaagaca aacacttcgt\\n      421 gagttcattt tcagaagtgt tggtatcgac ccaagaaacc cagttagtgg agcttggaag\\n      481 tgcttccaag aacggatatt gctgaacgat aaaataccag ctggattttt tagcgtgttt\\n      541 cgtgaaatgg tagatatcac agtacctcta atcaatgctg gatttgagtt gggcccaaaa\\n      601 accgtgccag acattagcgt tggaactcgg tgggcaaatc actggaagcg taacaactta\\n      661 agcgaaaaat acggggatat acagaaacac cctcatgtct acccagactg gtttccgcag\\n      721 agtaaggcgg gaaacttgcc agcaaacatt tacccagaag aggctctggg tgaatttagg\\n      781 cgatggctgc gtgaggagta cgtcccgaaa ggattcaagg aatacctagc tgataaggtt\\n      841 cagcaaaaag tcatcgaaaa tacaaaggcc attgaggtcc tagaaaacct gcaaagacca\\n      901 gaacttccaa ataagaag\\n//\\n\\n'"
      ]
     },
     "execution_count": 341,
     "metadata": {},
     "output_type": "execute_result"
    }
   ],
   "source": [
    "a.downloaded_record.getvalue()"
   ]
  },
  {
   "cell_type": "code",
   "execution_count": 320,
   "metadata": {
    "Collapsed": "false"
   },
   "outputs": [],
   "source": [
    "a.add_something('bueno')"
   ]
  },
  {
   "cell_type": "code",
   "execution_count": 323,
   "metadata": {
    "Collapsed": "false"
   },
   "outputs": [
    {
     "data": {
      "text/plain": [
       "'bueno'"
      ]
     },
     "execution_count": 323,
     "metadata": {},
     "output_type": "execute_result"
    }
   ],
   "source": [
    "a.something"
   ]
  },
  {
   "cell_type": "code",
   "execution_count": null,
   "metadata": {
    "Collapsed": "false"
   },
   "outputs": [],
   "source": []
  }
 ],
 "metadata": {
  "kernelspec": {
   "display_name": "Python 3",
   "language": "python",
   "name": "python3"
  },
  "language_info": {
   "codemirror_mode": {
    "name": "ipython",
    "version": 3
   },
   "file_extension": ".py",
   "mimetype": "text/x-python",
   "name": "python",
   "nbconvert_exporter": "python",
   "pygments_lexer": "ipython3",
   "version": "3.6.10"
  }
 },
 "nbformat": 4,
 "nbformat_minor": 4
}
