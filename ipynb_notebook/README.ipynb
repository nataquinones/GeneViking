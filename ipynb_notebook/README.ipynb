{
 "cells": [
  {
   "cell_type": "markdown",
   "metadata": {
    "Collapsed": "false"
   },
   "source": [
    "# GeneViking"
   ]
  },
  {
   "cell_type": "markdown",
   "metadata": {
    "Collapsed": "false"
   },
   "source": [
    "## Description\n",
    "GeneViking is a simple tool to query genomic neighborhoods. The original idea is the following: You have an NCBI genome accession and location, and a length range. GeneViking downloads the region of interest, parses the GenBank file and produces a table with the features in that area. The first iteration did only that, but I would like to integrate more features. Mainly, I want to improve the download-process step, order everything into a GeneViking Class, integrate the option for *fresh* `prokka` annotation, and integrate some more visualizations (feature viewer, clustering/heatmaps, etc.)"
   ]
  },
  {
   "cell_type": "markdown",
   "metadata": {
    "Collapsed": "false"
   },
   "source": [
    "## Contents\n",
    "1. [GeneViking Class](01_VikingClass.ipynb)\n",
    "2. [Download-process logic]()\n",
    "3. [Integrate prokka]()\n",
    "4. [Integrate visualizations]()"
   ]
  },
  {
   "cell_type": "markdown",
   "metadata": {
    "Collapsed": "false"
   },
   "source": [
    "## TO_DO:\n",
    "- [ ] Check individual download vs. batch download efficiencies.\n",
    "- [ ] Try to make a simple snakemake download pipeline.\n",
    "- [ ] Re-write object accordingly.\n",
    "- [ ] Integrate prokka well. (Check if it is worth 6f translate?)\n",
    "- [ ] Integrate visualization (heatmaps, clustering)"
   ]
  },
  {
   "cell_type": "code",
   "execution_count": null,
   "metadata": {
    "Collapsed": "false"
   },
   "outputs": [],
   "source": []
  }
 ],
 "metadata": {
  "kernelspec": {
   "display_name": "Python 3",
   "language": "python",
   "name": "python3"
  },
  "language_info": {
   "codemirror_mode": {
    "name": "ipython",
    "version": 3
   },
   "file_extension": ".py",
   "mimetype": "text/x-python",
   "name": "python",
   "nbconvert_exporter": "python",
   "pygments_lexer": "ipython3",
   "version": "3.6.10"
  }
 },
 "nbformat": 4,
 "nbformat_minor": 4
}
